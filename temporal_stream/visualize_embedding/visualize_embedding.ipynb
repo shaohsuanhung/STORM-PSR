{
 "cells": [
  {
   "cell_type": "code",
   "execution_count": null,
   "metadata": {},
   "outputs": [],
   "source": [
    "import visualize_util as ut\n",
    "from sklearn.manifold import TSNE\n",
    "import umap\n",
    "from pathlib import Path\n",
    "import pandas as pd\n",
    "import os\n",
    "import glob\n",
    "import datatable as dt"
   ]
  },
  {
   "cell_type": "markdown",
   "metadata": {},
   "source": [
    "### User Setting\n",
    "Do the all setting here, then you can run all the rest of the code blocks"
   ]
  },
  {
   "cell_type": "code",
   "execution_count": 3,
   "metadata": {},
   "outputs": [],
   "source": [
    "# Path of the embedding that you have generated\n",
    "data_path = Path('your_path_to_embedding')\n",
    "asd_label_path =Path('your_path_to_label')\n",
    "\n",
    "train_path = data_path / 'train'\n",
    "val_path = data_path / 'val'\n",
    "test_path = data_path /'test'\n",
    "# Path of label file\n",
    "train_label_path = asd_label_path / 'train'\n",
    "val_label_path = asd_label_path / 'val'\n",
    "test_label_path = asd_label_path / 'test'\n",
    "# Whether save the scatter plot of embeddings. \n",
    "save_flag = False\n",
    "path2store = data_path\n",
    "setting = 'Name of the setting'"
   ]
  },
  {
   "cell_type": "code",
   "execution_count": null,
   "metadata": {},
   "outputs": [],
   "source": [
    "# Combine all the IndustReal dataset \n",
    "df_train =  ut.load_embedding_from_structural_folder(train_path,train_label_path, statics= False, normalized= True)\n",
    "df_val  =  ut.load_embedding_from_structural_folder(val_path,val_label_path, statics= False, normalized= True)\n",
    "df_test =  ut.load_embedding_from_structural_folder(test_path,test_label_path, statics= False, normalized= True)\n",
    "df = pd.concat([df_train,df_val,df_test],axis = 0).reset_index()"
   ]
  },
  {
   "cell_type": "code",
   "execution_count": 5,
   "metadata": {},
   "outputs": [],
   "source": [
    "# Train the UMAP model\n",
    "df = df_test\n",
    "dim = 2\n",
    "UMAP_setting = umap.UMAP(n_neighbors=30, n_components=2,\n",
    "                      min_dist=0.3,\n",
    "                      metric='cosine',init='pca')\n",
    "trained_umap, umap_df, umap_score = ut.get_UMAP_df_and_score(UMAP_setting,\n",
    "                                                             df,\n",
    "                                                             dim,\n",
    "                                                             supervised=False,\n",
    "                                                             normalized=True,\n",
    "                                                             anonymous_mode = False,)"
   ]
  },
  {
   "cell_type": "markdown",
   "metadata": {},
   "source": [
    "### Save the UMAP model"
   ]
  },
  {
   "cell_type": "code",
   "execution_count": 11,
   "metadata": {},
   "outputs": [],
   "source": [
    "# # Uncommend t store the trained UMAP for reprocducesibility\n",
    "# import joblib\n",
    "# joblib.dump(trained_umap,'{your_save_path}/mapping_model.pkl')"
   ]
  },
  {
   "cell_type": "markdown",
   "metadata": {},
   "source": [
    "### Visualization"
   ]
  },
  {
   "cell_type": "code",
   "execution_count": null,
   "metadata": {},
   "outputs": [],
   "source": [
    "save_flag = False\n",
    "no_zero = umap_df[umap_df['state']!='0']\n",
    "sub_umap = ut.subsampled_df(umap_df,shrink_size=4)\n",
    "no_error = no_zero[no_zero['state']!='23']\n",
    "ut.plot_2D_4_publication(sub_umap[sub_umap['state']!='23'],title= 'testset_industReal_skip4' + ' UMAP CDbw-{:.3f} no errors_state0_on_top'.format(umap_score),save=save_flag,path = path2store)\n",
    "ut.plot_2D_4_publication(umap_df[umap_df['state']=='0'],title= 'Whole_industReal' + ' UMAP CDbw-{:.3f} state 0 only'.format(umap_score),save=save_flag,path = path2store)\n",
    "ut.plot_2D_4_publication(umap_df[umap_df['state']!='0'],title= 'Whole_industReal' + ' UMAP CDbw-{:.3f} without state 0'.format(umap_score),save=save_flag,path = path2store)"
   ]
  }
 ],
 "metadata": {
  "kernelspec": {
   "display_name": "Python 3",
   "language": "python",
   "name": "python3"
  },
  "language_info": {
   "codemirror_mode": {
    "name": "ipython",
    "version": 3
   },
   "file_extension": ".py",
   "mimetype": "text/x-python",
   "name": "python",
   "nbconvert_exporter": "python",
   "pygments_lexer": "ipython3",
   "version": "3.9.18"
  }
 },
 "nbformat": 4,
 "nbformat_minor": 2
}
